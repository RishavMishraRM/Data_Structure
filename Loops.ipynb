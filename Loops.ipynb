{
 "cells": [
  {
   "cell_type": "code",
   "execution_count": 1,
   "id": "7e21b811",
   "metadata": {},
   "outputs": [
    {
     "name": "stdout",
     "output_type": "stream",
     "text": [
      "Hello Geek\n",
      "Hello Geek\n",
      "Hello Geek\n"
     ]
    }
   ],
   "source": [
    "# prints Hello Geek 3 Times\n",
    "count = 0\n",
    "while (count < 3):\t\n",
    "\tcount = count+1\n",
    "\tprint(\"Hello Geek\")"
   ]
  },
  {
   "cell_type": "code",
   "execution_count": 2,
   "id": "120a2960",
   "metadata": {},
   "outputs": [
    {
     "name": "stdout",
     "output_type": "stream",
     "text": [
      "List Iteration\n",
      "geeks\n",
      "for\n",
      "geeks\n",
      "\n",
      "Tuple Iteration\n",
      "geeks\n",
      "for\n",
      "geeks\n",
      "\n",
      "String Iteration\n",
      "G\n",
      "e\n",
      "e\n",
      "k\n",
      "s\n",
      "\n",
      "Dictionary Iteration\n",
      "xyz 123\n",
      "abc 345\n"
     ]
    }
   ],
   "source": [
    "# Iterating over a list\n",
    "print(\"List Iteration\")\n",
    "l = [\"geeks\", \"for\", \"geeks\"]\n",
    "for i in l:\n",
    "\tprint(i)\n",
    "\t\n",
    "# Iterating over a tuple (immutable)\n",
    "print(\"\\nTuple Iteration\")\n",
    "t = (\"geeks\", \"for\", \"geeks\")\n",
    "for i in t:\n",
    "\tprint(i)\n",
    "\t\n",
    "# Iterating over a String\n",
    "print(\"\\nString Iteration\")\t\n",
    "s = \"Geeks\"\n",
    "for i in s :\n",
    "\tprint(i)\n",
    "\t\n",
    "# Iterating over dictionary\n",
    "print(\"\\nDictionary Iteration\")\n",
    "d = dict()\n",
    "d['xyz'] = 123\n",
    "d['abc'] = 345\n",
    "for i in d :\n",
    "\tprint(\"%s %d\" %(i, d[i]))\n"
   ]
  },
  {
   "cell_type": "code",
   "execution_count": 3,
   "id": "84b97dcd",
   "metadata": {},
   "outputs": [
    {
     "name": "stdout",
     "output_type": "stream",
     "text": [
      "1 \n",
      "2 2 \n",
      "3 3 3 \n",
      "4 4 4 4 \n"
     ]
    }
   ],
   "source": [
    "from __future__ import print_function\n",
    "for i in range(1, 5):\n",
    "    for j in range(i):\n",
    "        print(i, end=' ')\n",
    "    print()"
   ]
  },
  {
   "cell_type": "code",
   "execution_count": 4,
   "id": "a8ce27d4",
   "metadata": {},
   "outputs": [
    {
     "name": "stdout",
     "output_type": "stream",
     "text": [
      "Current Letter : g\n",
      "Current Letter : k\n",
      "Current Letter : f\n",
      "Current Letter : o\n",
      "Current Letter : r\n",
      "Current Letter : g\n",
      "Current Letter : k\n"
     ]
    }
   ],
   "source": [
    "# Prints all letters except 'e' and 's'\n",
    "for letter in 'geeksforgeeks':\n",
    "\tif letter == 'e' or letter == 's':\n",
    "\t\tcontinue\n",
    "\tprint ('Current Letter :', letter)\n",
    "\tvar = 10"
   ]
  },
  {
   "cell_type": "code",
   "execution_count": 5,
   "id": "55e25213",
   "metadata": {},
   "outputs": [
    {
     "name": "stdout",
     "output_type": "stream",
     "text": [
      "Current Letter : e\n"
     ]
    }
   ],
   "source": [
    "for letter in 'geeksforgeeks':\n",
    "\n",
    "\t# break the loop as soon it sees 'e'\n",
    "\t# or 's'\n",
    "\tif letter == 'e' or letter == 's':\n",
    "\t\tbreak\n",
    "\n",
    "print ('Current Letter :', letter)\n"
   ]
  },
  {
   "cell_type": "code",
   "execution_count": 6,
   "id": "220f516c",
   "metadata": {},
   "outputs": [
    {
     "name": "stdout",
     "output_type": "stream",
     "text": [
      "Last Letter : s\n"
     ]
    }
   ],
   "source": [
    "# An empty loop\n",
    "for letter in 'geeksforgeeks':\n",
    "\tpass\n",
    "print ('Last Letter :', letter)"
   ]
  },
  {
   "cell_type": "code",
   "execution_count": null,
   "id": "2d1d497e",
   "metadata": {},
   "outputs": [],
   "source": []
  }
 ],
 "metadata": {
  "kernelspec": {
   "display_name": "Python 3",
   "language": "python",
   "name": "python3"
  },
  "language_info": {
   "codemirror_mode": {
    "name": "ipython",
    "version": 3
   },
   "file_extension": ".py",
   "mimetype": "text/x-python",
   "name": "python",
   "nbconvert_exporter": "python",
   "pygments_lexer": "ipython3",
   "version": "3.8.10"
  },
  "varInspector": {
   "cols": {
    "lenName": 16,
    "lenType": 16,
    "lenVar": 40
   },
   "kernels_config": {
    "python": {
     "delete_cmd_postfix": "",
     "delete_cmd_prefix": "del ",
     "library": "var_list.py",
     "varRefreshCmd": "print(var_dic_list())"
    },
    "r": {
     "delete_cmd_postfix": ") ",
     "delete_cmd_prefix": "rm(",
     "library": "var_list.r",
     "varRefreshCmd": "cat(var_dic_list()) "
    }
   },
   "types_to_exclude": [
    "module",
    "function",
    "builtin_function_or_method",
    "instance",
    "_Feature"
   ],
   "window_display": false
  }
 },
 "nbformat": 4,
 "nbformat_minor": 5
}
